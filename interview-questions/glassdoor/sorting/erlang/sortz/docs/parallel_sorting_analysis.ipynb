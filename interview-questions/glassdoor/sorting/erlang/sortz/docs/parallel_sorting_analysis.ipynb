{
 "cells": [
  {
   "cell_type": "markdown",
   "metadata": {},
   "source": [
    "# Parallel Sorting : Analysis\n",
    "\n",
    "## Summary\n",
    "\n",
    "\n",
    "## Notes\n",
    "\n",
    "\n",
    "* 'dummy_sort' uses the internal Erlang lists:sort/1 method. It is provided as a baseline.\n"
   ]
  },
  {
   "cell_type": "markdown",
   "metadata": {},
   "source": [
    "### The data :\n",
    "\n",
    "The format is the same as for Part 1 with the addition of a 'procs' field at the beginning:\n",
    "\n",
    "\"['procs', 'alg', 'input', 'items', 'utc', 'ts', 'duration\\n']\"\n"
   ]
  },
  {
   "cell_type": "code",
   "execution_count": 6,
   "metadata": {},
   "outputs": [
    {
     "name": "stdout",
     "output_type": "stream",
     "text": [
      "['procs', 'alg', 'input', 'items', 'utc', 'ts', 'duration\\n']\n",
      "['8', 'dummy_sort', 'constant', '10', '13 Jun 2019 23:58:48.678984', '1560470328685850', '0.000000\\n']\n",
      "['8', 'dummy_sort', 'constant', '100', '13 Jun 2019 23:58:48.686168', '1560470328686205', '0.000000\\n']\n",
      "['8', 'dummy_sort', 'constant', '1000', '13 Jun 2019 23:58:48.686667', '1560470328686701', '0.000000\\n']\n",
      "['8', 'dummy_sort', 'constant', '10000', '13 Jun 2019 23:58:48.687678', '1560470328687705', '0.002000\\n']\n",
      "['8', 'dummy_sort', 'constant', '100000', '13 Jun 2019 23:58:48.693502', '1560470328693574', '0.035000\\n']\n",
      "['8', 'dummy_sort', 'sorted', '10', '13 Jun 2019 23:58:48.736419', '1560470328736452', '0.001000\\n']\n",
      "['8', 'dummy_sort', 'sorted', '100', '13 Jun 2019 23:58:48.736891', '1560470328736920', '0.000000\\n']\n",
      "['8', 'dummy_sort', 'sorted', '1000', '13 Jun 2019 23:58:48.737433', '1560470328737469', '0.001000\\n']\n",
      "['8', 'dummy_sort', 'sorted', '10000', '13 Jun 2019 23:58:48.738705', '1560470328738746', '0.004000\\n']\n"
     ]
    }
   ],
   "source": [
    "with open(\"./perf/pperf_run.csv\") as f:\n",
    "    lines = f.readlines()\n",
    "    for line in lines[:10]:\n",
    "        items = line.split(\"|\")\n",
    "        print(items)"
   ]
  },
  {
   "cell_type": "markdown",
   "metadata": {},
   "source": [
    "### Setup"
   ]
  },
  {
   "cell_type": "code",
   "execution_count": null,
   "metadata": {},
   "outputs": [],
   "source": [
    "import pandas as pd\n",
    "import matplotlib.pyplot as plt\n",
    "from pandasql import sqldf\n",
    "df = pd.read_csv(\"./perf/pperf_run.csv\", delimiter=\"|\")\n",
    "pysqldf = lambda q: sqldf(q, globals())"
   ]
  },
  {
   "cell_type": "markdown",
   "metadata": {},
   "source": [
    "### Q: Did the time to sort increase proportionally to the size of the inputs?\n",
    "A: Looks exponential to me."
   ]
  },
  {
   "cell_type": "code",
   "execution_count": 30,
   "metadata": {},
   "outputs": [
    {
     "data": {
      "text/plain": [
       "<matplotlib.axes._subplots.AxesSubplot at 0x7f4524281550>"
      ]
     },
     "execution_count": 30,
     "metadata": {},
     "output_type": "execute_result"
    },
    {
     "data": {
      "image/png": "[encoded data removed]",
      "text/plain": [
       "<Figure size 432x288 with 1 Axes>"
      ]
     },
     "metadata": {
      "needs_background": "light"
     },
     "output_type": "display_data"
    }
   ],
   "source": [
    "q = pysqldf(\"select items, sum(duration) as duration_secs from df group by items;\")\n",
    "q.plot.bar(x='items', y='duration_secs', logy=True)"
   ]
  },
  {
   "cell_type": "markdown",
   "metadata": {},
   "source": [
    "### Q: Did adding more processesors and parallelizing the solution result in faster problem solving?\n",
    "A: Uh oh. That looks like a big fat _NO_. In the graph below, the different colors represent the different number of processors that were enlisted by the parallelization function. The input datasets were chunked into the number of processors enlisted (from 3 to 8) and then processed in parallel via `rpc:pmap`. More on that below."
   ]
  },
  {
   "cell_type": "code",
   "execution_count": 35,
   "metadata": {},
   "outputs": [
    {
     "data": {
      "text/plain": [
       "<matplotlib.axes._subplots.AxesSubplot at 0x7f45245c2a20>"
      ]
     },
     "execution_count": 35,
     "metadata": {},
     "output_type": "execute_result"
    },
    {
     "data": {
      "image/png": "[encoded data removed]",
      "text/plain": [
       "<Figure size 432x288 with 1 Axes>"
      ]
     },
     "metadata": {
      "needs_background": "light"
     },
     "output_type": "display_data"
    }
   ],
   "source": [
    "q = pysqldf(\"select items, procs, duration from df;\")\n",
    "q.groupby(['items', 'procs']).sum(axes='duration').unstack().plot.bar(logy=True, rot=90)"
   ]
  },
  {
   "cell_type": "markdown",
   "metadata": {},
   "source": [
    "### Closeup on the items = 100000\n",
    "\n",
    "Looks like `7` processors was the sweet spot on my machine (W510 with 8 virtual cpus). But it's interesting that the results didn't vary by all that much."
   ]
  },
  {
   "cell_type": "code",
   "execution_count": 41,
   "metadata": {},
   "outputs": [
    {
     "data": {
      "text/plain": [
       "<matplotlib.axes._subplots.AxesSubplot at 0x7f4523e6d630>"
      ]
     },
     "execution_count": 41,
     "metadata": {},
     "output_type": "execute_result"
    },
    {
     "data": {
      "image/png": "[encoded data removed]",
      "text/plain": [
       "<Figure size 432x288 with 1 Axes>"
      ]
     },
     "metadata": {
      "needs_background": "light"
     },
     "output_type": "display_data"
    }
   ],
   "source": [
    "q = pysqldf(\"select items, procs, sum(duration) as tot from df where items == 100000 group by procs order by tot asc;\")\n",
    "q.plot.bar(x='procs', y='tot')"
   ]
  },
  {
   "cell_type": "markdown",
   "metadata": {},
   "source": [
    "So the question is, where did the time get spent and are the results an artifact of how I'm testing this? The results are definitely not what I expected, so let's dig in..."
   ]
  }
 ],
 "metadata": {
  "kernelspec": {
   "display_name": "Python 3",
   "language": "python",
   "name": "python3"
  },
  "language_info": {
   "codemirror_mode": {
    "name": "ipython",
    "version": 3
   },
   "file_extension": ".py",
   "mimetype": "text/x-python",
   "name": "python",
   "nbconvert_exporter": "python",
   "pygments_lexer": "ipython3",
   "version": "3.7.3"
  }
 },
 "nbformat": 4,
 "nbformat_minor": 2
}
