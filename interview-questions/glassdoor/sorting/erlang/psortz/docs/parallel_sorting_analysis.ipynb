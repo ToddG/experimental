{
 "cells": [
  {
   "cell_type": "markdown",
   "metadata": {},
   "source": [
    "# Parallel Sorting : Analysis\n",
    "\n",
    "## Summary\n",
    "\n",
    "Parallelization of an embarrasingly parallel problem is certainly easy to do in Erlang, though the benefits of spreading a calculation across processors diminishes after the 2nd or 3rd processor.\n",
    "\n",
    "\n",
    "## Notes\n",
    "\n",
    "* 'dummy_sort' uses the internal Erlang lists:sort/1 method. It is provided as a baseline.\n"
   ]
  },
  {
   "cell_type": "markdown",
   "metadata": {},
   "source": [
    "### The data :\n",
    "\n",
    "The format is the same as for Part 1 with the addition of a 'procs' field at the beginning:\n",
    "\n",
    "\"['procs', 'alg', 'input', 'items', 'utc', 'ts', 'duration\\n']\"\n"
   ]
  },
  {
   "cell_type": "code",
   "execution_count": 48,
   "metadata": {},
   "outputs": [
    {
     "name": "stdout",
     "output_type": "stream",
     "text": [
      "['procs', 'alg', 'input', 'items', 'utc', 'ts', 'duration', 'func\\n']\n",
      "['8', 'dummy_sort', 'random', '10', '14 Jun 2019 21:30:10.910728', '1560547810910746', '0.00000000', 'frag\\n']\n",
      "['8', 'dummy_sort', 'random', '10', '14 Jun 2019 21:30:10.911088', '1560547810911114', '0.00000000', 'rpcpmap\\n']\n",
      "['8', 'dummy_sort', 'random', '10', '14 Jun 2019 21:30:10.911344', '1560547810911370', '0.00000000', 'merge\\n']\n",
      "['8', 'dummy_sort', 'random', '10', '14 Jun 2019 21:30:10.908312', '1560547810910722', '0.001000', 'all\\n']\n",
      "['8', 'dummy_sort', 'random', '100', '14 Jun 2019 21:30:10.911833', '1560547810911859', '0.00000000', 'frag\\n']\n",
      "['8', 'dummy_sort', 'random', '100', '14 Jun 2019 21:30:10.912149', '1560547810912180', '0.00000000', 'rpcpmap\\n']\n",
      "['8', 'dummy_sort', 'random', '100', '14 Jun 2019 21:30:10.912411', '1560547810912442', '0.00000000', 'merge\\n']\n",
      "['8', 'dummy_sort', 'random', '100', '14 Jun 2019 21:30:10.911780', '1560547810911818', '0.001000', 'all\\n']\n",
      "['8', 'dummy_sort', 'random', '1000', '14 Jun 2019 21:30:10.913105', '1560547810913132', '0.00000000', 'frag\\n']\n"
     ]
    }
   ],
   "source": [
    "with open(\"./perf/pperf-01.csv\") as f:\n",
    "    lines = f.readlines()\n",
    "    for line in lines[:10]:\n",
    "        items = line.split(\"|\")\n",
    "        print(items)"
   ]
  },
  {
   "cell_type": "markdown",
   "metadata": {},
   "source": [
    "### Setup"
   ]
  },
  {
   "cell_type": "code",
   "execution_count": 58,
   "metadata": {},
   "outputs": [],
   "source": [
    "import pandas as pd\n",
    "import matplotlib.pyplot as plt\n",
    "from pandasql import sqldf\n",
    "df = pd.read_csv(\"./perf/pperf-01.csv\", delimiter=\"|\")\n",
    "pysqldf = lambda q: sqldf(q, globals())"
   ]
  },
  {
   "cell_type": "markdown",
   "metadata": {},
   "source": [
    "### Q: Did the time to sort increase proportionally to the size of the inputs?\n",
    "A: Looks exponential to me."
   ]
  },
  {
   "cell_type": "code",
   "execution_count": 59,
   "metadata": {},
   "outputs": [
    {
     "data": {
      "text/plain": [
       "<matplotlib.axes._subplots.AxesSubplot at 0x7faf3baf0240>"
      ]
     },
     "execution_count": 59,
     "metadata": {},
     "output_type": "execute_result"
    },
    {
     "data": {
      "image/png": "[encoded data removed]",
      "text/plain": [
       "<Figure size 432x288 with 1 Axes>"
      ]
     },
     "metadata": {
      "needs_background": "light"
     },
     "output_type": "display_data"
    }
   ],
   "source": [
    "q = pysqldf(\"select items, sum(duration) as duration_secs from df group by items;\")\n",
    "q.plot.bar(x='items', y='duration_secs', logy=True)"
   ]
  },
  {
   "cell_type": "markdown",
   "metadata": {},
   "source": [
    "### Q: Did adding more processesors and parallelizing the solution result in faster problem solving?\n",
    "A: Uh oh. That looks like a big fat _NO_. In the graph below, the different colors represent the different number of processors that were enlisted by the parallelization function. The input datasets were chunked into the number of processors enlisted (from 3 to 8) and then processed in parallel via `rpc:pmap`. More on that below."
   ]
  },
  {
   "cell_type": "code",
   "execution_count": 60,
   "metadata": {},
   "outputs": [
    {
     "data": {
      "text/plain": [
       "<matplotlib.axes._subplots.AxesSubplot at 0x7faf3b853630>"
      ]
     },
     "execution_count": 60,
     "metadata": {},
     "output_type": "execute_result"
    },
    {
     "data": {
      "image/png": "[encoded data removed]",
      "text/plain": [
       "<Figure size 432x288 with 1 Axes>"
      ]
     },
     "metadata": {
      "needs_background": "light"
     },
     "output_type": "display_data"
    }
   ],
   "source": [
    "q = pysqldf(\"select items, procs, duration from df;\")\n",
    "q.groupby(['items', 'procs']).sum(axes='duration').unstack().plot.bar(logy=True, rot=90)"
   ]
  },
  {
   "cell_type": "markdown",
   "metadata": {},
   "source": [
    "### Closeup on the items = 1000000\n",
    "\n",
    "Looks like `7` processors was the sweet spot on my machine (W510 with 8 virtual cpus). But it's interesting that the results didn't vary by all that much."
   ]
  },
  {
   "cell_type": "code",
   "execution_count": 52,
   "metadata": {},
   "outputs": [
    {
     "data": {
      "text/plain": [
       "<matplotlib.axes._subplots.AxesSubplot at 0x7faf3be8dbe0>"
      ]
     },
     "execution_count": 52,
     "metadata": {},
     "output_type": "execute_result"
    },
    {
     "data": {
      "image/png": "[encoded data removed]",
      "text/plain": [
       "<Figure size 432x288 with 1 Axes>"
      ]
     },
     "metadata": {
      "needs_background": "light"
     },
     "output_type": "display_data"
    }
   ],
   "source": [
    "q = pysqldf(\"select items, procs, sum(duration) as tot from df where items == 1000000 group by procs order by tot asc;\")\n",
    "q.plot.bar(x='procs', y='tot')"
   ]
  },
  {
   "cell_type": "markdown",
   "metadata": {},
   "source": [
    "So the question is, where did the time get spent and are the results an artifact of how I'm testing this? The results are definitely not what I expected, so let's dig in..."
   ]
  },
  {
   "cell_type": "markdown",
   "metadata": {},
   "source": [
    "## Q: Is there something that is swamping the results?\n",
    "\n",
    "I think so. The test chunks the input, farms each chunk out via rpc:pmap for evaluation by the sorting function `F`, and then reassembles the sorted chunks, `by processing the appended chunks with F`. I bet this last sort is swamping the results...and in fact, is a terrible idea as Part 1 showed that most of these algorithms do not behave particularly well with presorted inputs. \n",
    "\n",
    "code:\n",
    "\n",
    "```erlang\n",
    "parallelized_sort(FName, GName, OuterF, L, Procs, File) ->\n",
    "    DataLen = length(L),\n",
    "    Log = fun(N,T) ->\n",
    "        dump(File, [io_lib:format(<<\"~w|~s|~s|~w|~s|~w|~.8f|~s\">>, [Procs, FName, GName, DataLen, format_utc_timestamp(), erlang:system_time(microsecond), T, N])]) end,\n",
    "    {FragTime, Frags} = ?timeit(fragment(L, Procs)),\n",
    "    Log(frag, FragTime),\n",
    "    FuncNameAtom = list_to_atom(FName),\n",
    "    {RPCTime, RPCRes} = ?timeit(rpc:pmap({?MODULE, FuncNameAtom}, [], Frags)),\n",
    "    Log(rpcpmap, RPCTime),\n",
    "    {MergeTime, Merged} = ?timeit(OuterF(lists:flatten(RPCRes))),\n",
    "    Log(merge, MergeTime),\n",
    "    Merged.\n",
    "```\n",
    "\n",
    "So note that this is essentially:\n",
    "\n",
    "```erlang \n",
    "%% pseudocode\n",
    "C = chunks(L)\n",
    "%% Here the outer F is swamping the inner F\n",
    "F(rpc:pmap(F(C)))\n",
    "```\n",
    "\n",
    "So is the OuterF swamping the results of the InnerF ?"
   ]
  },
  {
   "cell_type": "code",
   "execution_count": 53,
   "metadata": {},
   "outputs": [
    {
     "data": {
      "text/plain": [
       "<matplotlib.axes._subplots.AxesSubplot at 0x7faf3c100080>"
      ]
     },
     "execution_count": 53,
     "metadata": {},
     "output_type": "execute_result"
    },
    {
     "data": {
      "image/png": "[encoded data removed]",
      "text/plain": [
       "<Figure size 432x288 with 1 Axes>"
      ]
     },
     "metadata": {
      "needs_background": "light"
     },
     "output_type": "display_data"
    }
   ],
   "source": [
    "q = pysqldf(\"select alg, func, duration, items from df where items=1000000;\")\n",
    "q1 = pysqldf(\"select alg, func, duration from q;\")\n",
    "q1.groupby(['alg', 'func']).sum(axes='duration').unstack().plot.bar(logy=False, rot=90)"
   ]
  },
  {
   "cell_type": "markdown",
   "metadata": {},
   "source": [
    "Above, note that the total duration, \"all\" is almost equal to the time required by the finalsort called 'merge'. The time required for the 'rpcmap' operation is considerably less (by about an order of magnitude) than the time required for the the final sort. Interesting."
   ]
  },
  {
   "cell_type": "markdown",
   "metadata": {},
   "source": [
    "## Remove Swamping\n",
    "\n",
    "In the following results, I've made the following change to the code:\n",
    "\n",
    "```erlang\n",
    "C = chunks(L)\n",
    "\n",
    "%% Use the existing lists:merge function to merge already sorted lists\n",
    "lists:merge(rpc:pmap(F(C)))\n",
    "```\n",
    "\n",
    "Here's how that actually looks:\n",
    "\n",
    "```erlang\n",
    "parallelized_sort(FName, GName, L, Procs, File) ->\n",
    "    DataLen = length(L),\n",
    "    Log = fun(N,T) ->\n",
    "        dump(File, [io_lib:format(<<\"~w|~s|~s|~w|~s|~w|~.8f|~s\">>, [Procs, FName, GName, DataLen, format_utc_timestamp(), erlang:system_time(microsecond), T, N])]) end,\n",
    "    {FragTime, Frags} = ?timeit(fragment(L, Procs)),\n",
    "    Log(frag, FragTime),\n",
    "    FuncNameAtom = list_to_atom(FName),\n",
    "    {RPCTime, RPCRes} = ?timeit(rpc:pmap({?MODULE, FuncNameAtom}, [], Frags)),\n",
    "    Log(rpcpmap, RPCTime),\n",
    "    {MergeTime, Merged} = ?timeit(lists:merge(RPCRes)),\n",
    "    Log(merge, MergeTime),\n",
    "    Merged.\n",
    "```\n",
    "\n"
   ]
  },
  {
   "cell_type": "code",
   "execution_count": 54,
   "metadata": {},
   "outputs": [
    {
     "data": {
      "text/plain": [
       "<matplotlib.axes._subplots.AxesSubplot at 0x7faf3c100a20>"
      ]
     },
     "execution_count": 54,
     "metadata": {},
     "output_type": "execute_result"
    },
    {
     "data": {
      "image/png": "[encoded data removed]",
      "text/plain": [
       "<Figure size 432x288 with 1 Axes>"
      ]
     },
     "metadata": {
      "needs_background": "light"
     },
     "output_type": "display_data"
    }
   ],
   "source": [
    "df = pd.read_csv(\"./perf/pperf-02.csv\", delimiter=\"|\")\n",
    "q = pysqldf(\"select items, procs, duration from df;\")\n",
    "q.groupby(['items', 'procs']).sum(axes='duration').unstack().plot.bar(logy=True, rot=90)"
   ]
  },
  {
   "cell_type": "code",
   "execution_count": 55,
   "metadata": {
    "scrolled": true
   },
   "outputs": [
    {
     "data": {
      "text/plain": [
       "<matplotlib.axes._subplots.AxesSubplot at 0x7faf3bd19828>"
      ]
     },
     "execution_count": 55,
     "metadata": {},
     "output_type": "execute_result"
    },
    {
     "data": {
      "image/png": "[encoded data removed]",
      "text/plain": [
       "<Figure size 432x288 with 1 Axes>"
      ]
     },
     "metadata": {
      "needs_background": "light"
     },
     "output_type": "display_data"
    }
   ],
   "source": [
    "q = pysqldf(\"select alg, func, duration, items from df where items=1000000;\")\n",
    "q1 = pysqldf(\"select alg, func, duration from q;\")\n",
    "q1.groupby(['alg', 'func']).sum(axes='duration').unstack().plot.bar(logy=False, rot=90)"
   ]
  },
  {
   "cell_type": "markdown",
   "metadata": {},
   "source": [
    "Ok, so the swamping has been removed and almost all the time is attributed to the RPC calls. Now, how well do these algorithms perform when distributed?"
   ]
  },
  {
   "cell_type": "code",
   "execution_count": 56,
   "metadata": {},
   "outputs": [
    {
     "data": {
      "text/plain": [
       "<matplotlib.axes._subplots.AxesSubplot at 0x7faf3ba37630>"
      ]
     },
     "execution_count": 56,
     "metadata": {},
     "output_type": "execute_result"
    },
    {
     "data": {
      "image/png": "[encoded data removed]",
      "text/plain": [
       "<Figure size 432x288 with 1 Axes>"
      ]
     },
     "metadata": {
      "needs_background": "light"
     },
     "output_type": "display_data"
    }
   ],
   "source": [
    "q = pysqldf(\"select procs, alg, func, duration from df where func='all' and items=1000000;\")\n",
    "q.groupby(['procs', 'alg']).sum(axes='duration').unstack().plot.bar(logy=False, rot=90)"
   ]
  },
  {
   "cell_type": "markdown",
   "metadata": {},
   "source": [
    "## Summary\n",
    "\n",
    "The greatest gains for quicksort happen to be going from one processor to two, essentially halving the time to do the work. Adding a third and fourth processor had successively smaller gains to performance, leading us to Ahmdals Law:\n",
    "\n",
    "https://en.wikipedia.org/wiki/Amdahl%27s_law\n",
    "\n",
    "\n",
    "TODO: Graph what Ahmdals Law using the collected data\n",
    "http://tutorials.jenkov.com/java-concurrency/amdahls-law.html"
   ]
  }
 ],
 "metadata": {
  "kernelspec": {
   "display_name": "Python 3",
   "language": "python",
   "name": "python3"
  },
  "language_info": {
   "codemirror_mode": {
    "name": "ipython",
    "version": 3
   },
   "file_extension": ".py",
   "mimetype": "text/x-python",
   "name": "python",
   "nbconvert_exporter": "python",
   "pygments_lexer": "ipython3",
   "version": "3.7.3"
  }
 },
 "nbformat": 4,
 "nbformat_minor": 2
}
